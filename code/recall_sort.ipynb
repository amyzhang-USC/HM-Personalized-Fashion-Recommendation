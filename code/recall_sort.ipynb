{
 "cells": [
  {
   "cell_type": "code",
   "execution_count": 1,
   "id": "b9908091",
   "metadata": {},
   "outputs": [],
   "source": [
    "import pandas as pd\n",
    "import numpy as np\n",
    "import numpy as np\n",
    "import datetime as dt\n",
    "from collections import defaultdict\n",
    "\n",
    "\n",
    "def apk(actual, predicted, k=12):\n",
    "    if len(predicted) > k:\n",
    "        predicted = predicted[:k]\n",
    "    score, nhits = 0.0, 0.0\n",
    "    for i, p in enumerate(predicted):\n",
    "        if p in actual and p not in predicted[:i]:\n",
    "            nhits += 1.0\n",
    "            score += nhits / (i + 1.0)\n",
    "    if not actual:\n",
    "        return 0.0\n",
    "    return score / min(len(actual), k)\n",
    "\n",
    "def mapk(actual, predicted, k=12, return_apks=False):\n",
    "    assert len(actual) == len(predicted)\n",
    "    apks = [apk(ac, pr, k) for ac, pr in zip(actual, predicted) if 0 < len(ac)]\n",
    "    if return_apks:\n",
    "        return apks\n",
    "    return np.mean(apks)\n",
    "\n",
    "def iter_to_str(iterable):\n",
    "    return \" \".join(map(lambda x: str(0) + str(x), iterable))\n",
    "\n",
    "\n",
    "def blend(dt, w=[], k=12):\n",
    "    if len(w) == 0:\n",
    "        w = [1] * (len(dt))\n",
    "    preds = []\n",
    "    for i in range(len(w)):\n",
    "        preds.append(dt[i].split())\n",
    "    res = {}\n",
    "    for i in range(len(preds)):\n",
    "        if w[i] < 0:\n",
    "            continue\n",
    "        for n, v in enumerate(preds[i]):\n",
    "            if v in res:\n",
    "                res[v] += (w[i] / (n + 1))\n",
    "            else:\n",
    "                res[v] = (w[i] / (n + 1))    \n",
    "    res = list(dict(sorted(res.items(), key=lambda item: -item[1])).keys())\n",
    "    return ' '.join(res[:k])\n",
    "\n",
    "def prune(pred, ok_set, k=12):\n",
    "    pred = pred.split()\n",
    "    post = []\n",
    "    for item in pred:\n",
    "        if int(item) in ok_set and not item in post:\n",
    "            post.append(item)\n",
    "    return \" \".join(post[:k])"
   ]
  },
  {
   "cell_type": "code",
   "execution_count": 2,
   "id": "5307625e",
   "metadata": {},
   "outputs": [],
   "source": [
    "df = pd.read_parquet('../input/hm-parquets-of-datasets/transactions_train.parquet')\n",
    "sub = pd.read_csv('../input/h-and-m-personalized-fashion-recommendations/sample_submission.csv')\n",
    "cid = pd.DataFrame(sub.customer_id.apply(lambda s: int(s[-16:], 16)))\n",
    "customer_id_dict = dict(zip(sub.customer_id.tolist(),[xx[0] for xx in list(cid.values)]))\n",
    "customer_id_inv_dict = dict(zip([xx[0] for xx in list(cid.values)],sub.customer_id.tolist()))\n",
    "sub['customer_id'] = cid"
   ]
  },
  {
   "cell_type": "code",
   "execution_count": 3,
   "id": "90db078a",
   "metadata": {},
   "outputs": [],
   "source": [
    "customers = pd.read_parquet('../input/hm-parquets-of-datasets/customers.parquet')\n",
    "articles = pd.read_parquet('../input/hm-parquets-of-datasets/articles.parquet')"
   ]
  },
  {
   "cell_type": "code",
   "execution_count": 4,
   "id": "804a1249",
   "metadata": {},
   "outputs": [
    {
     "data": {
      "text/html": [
       "<div>\n",
       "<style scoped>\n",
       "    .dataframe tbody tr th:only-of-type {\n",
       "        vertical-align: middle;\n",
       "    }\n",
       "\n",
       "    .dataframe tbody tr th {\n",
       "        vertical-align: top;\n",
       "    }\n",
       "\n",
       "    .dataframe thead th {\n",
       "        text-align: right;\n",
       "    }\n",
       "</style>\n",
       "<table border=\"1\" class=\"dataframe\">\n",
       "  <thead>\n",
       "    <tr style=\"text-align: right;\">\n",
       "      <th></th>\n",
       "      <th>customer_id</th>\n",
       "      <th>FN</th>\n",
       "      <th>Active</th>\n",
       "      <th>club_member_status</th>\n",
       "      <th>fashion_news_frequency</th>\n",
       "      <th>age</th>\n",
       "      <th>postal_code</th>\n",
       "    </tr>\n",
       "  </thead>\n",
       "  <tbody>\n",
       "    <tr>\n",
       "      <th>0</th>\n",
       "      <td>6883939031699146327</td>\n",
       "      <td>-1</td>\n",
       "      <td>-1</td>\n",
       "      <td>0</td>\n",
       "      <td>0</td>\n",
       "      <td>49</td>\n",
       "      <td>6305</td>\n",
       "    </tr>\n",
       "    <tr>\n",
       "      <th>1</th>\n",
       "      <td>11246327431398957306</td>\n",
       "      <td>-1</td>\n",
       "      <td>-1</td>\n",
       "      <td>0</td>\n",
       "      <td>0</td>\n",
       "      <td>25</td>\n",
       "      <td>33726</td>\n",
       "    </tr>\n",
       "    <tr>\n",
       "      <th>2</th>\n",
       "      <td>18439897732908966680</td>\n",
       "      <td>-1</td>\n",
       "      <td>-1</td>\n",
       "      <td>0</td>\n",
       "      <td>0</td>\n",
       "      <td>24</td>\n",
       "      <td>3247</td>\n",
       "    </tr>\n",
       "    <tr>\n",
       "      <th>3</th>\n",
       "      <td>18352672461570950206</td>\n",
       "      <td>-1</td>\n",
       "      <td>-1</td>\n",
       "      <td>0</td>\n",
       "      <td>0</td>\n",
       "      <td>54</td>\n",
       "      <td>168643</td>\n",
       "    </tr>\n",
       "    <tr>\n",
       "      <th>4</th>\n",
       "      <td>18162778555210377306</td>\n",
       "      <td>1</td>\n",
       "      <td>1</td>\n",
       "      <td>0</td>\n",
       "      <td>1</td>\n",
       "      <td>52</td>\n",
       "      <td>168645</td>\n",
       "    </tr>\n",
       "  </tbody>\n",
       "</table>\n",
       "</div>"
      ],
      "text/plain": [
       "            customer_id  FN  Active  club_member_status  \\\n",
       "0   6883939031699146327  -1      -1                   0   \n",
       "1  11246327431398957306  -1      -1                   0   \n",
       "2  18439897732908966680  -1      -1                   0   \n",
       "3  18352672461570950206  -1      -1                   0   \n",
       "4  18162778555210377306   1       1                   0   \n",
       "\n",
       "   fashion_news_frequency  age  postal_code  \n",
       "0                       0   49         6305  \n",
       "1                       0   25        33726  \n",
       "2                       0   24         3247  \n",
       "3                       0   54       168643  \n",
       "4                       1   52       168645  "
      ]
     },
     "execution_count": 4,
     "metadata": {},
     "output_type": "execute_result"
    }
   ],
   "source": [
    "customers.head()"
   ]
  },
  {
   "cell_type": "code",
   "execution_count": 5,
   "id": "17fd3c5c",
   "metadata": {},
   "outputs": [
    {
     "data": {
      "text/html": [
       "<div>\n",
       "<style scoped>\n",
       "    .dataframe tbody tr th:only-of-type {\n",
       "        vertical-align: middle;\n",
       "    }\n",
       "\n",
       "    .dataframe tbody tr th {\n",
       "        vertical-align: top;\n",
       "    }\n",
       "\n",
       "    .dataframe thead th {\n",
       "        text-align: right;\n",
       "    }\n",
       "</style>\n",
       "<table border=\"1\" class=\"dataframe\">\n",
       "  <thead>\n",
       "    <tr style=\"text-align: right;\">\n",
       "      <th></th>\n",
       "      <th>article_id</th>\n",
       "      <th>product_code</th>\n",
       "      <th>prod_name</th>\n",
       "      <th>product_type_no</th>\n",
       "      <th>product_type_name</th>\n",
       "      <th>product_group_name</th>\n",
       "      <th>graphical_appearance_no</th>\n",
       "      <th>graphical_appearance_name</th>\n",
       "      <th>colour_group_code</th>\n",
       "      <th>colour_group_name</th>\n",
       "      <th>...</th>\n",
       "      <th>department_name</th>\n",
       "      <th>index_code</th>\n",
       "      <th>index_name</th>\n",
       "      <th>index_group_no</th>\n",
       "      <th>index_group_name</th>\n",
       "      <th>section_no</th>\n",
       "      <th>section_name</th>\n",
       "      <th>garment_group_no</th>\n",
       "      <th>garment_group_name</th>\n",
       "      <th>detail_desc</th>\n",
       "    </tr>\n",
       "  </thead>\n",
       "  <tbody>\n",
       "    <tr>\n",
       "      <th>0</th>\n",
       "      <td>108775015</td>\n",
       "      <td>108775</td>\n",
       "      <td>12855</td>\n",
       "      <td>253</td>\n",
       "      <td>9</td>\n",
       "      <td>0</td>\n",
       "      <td>1010016</td>\n",
       "      <td>0</td>\n",
       "      <td>9</td>\n",
       "      <td>0</td>\n",
       "      <td>...</td>\n",
       "      <td>10</td>\n",
       "      <td>0</td>\n",
       "      <td>0</td>\n",
       "      <td>1</td>\n",
       "      <td>0</td>\n",
       "      <td>16</td>\n",
       "      <td>30</td>\n",
       "      <td>1002</td>\n",
       "      <td>2</td>\n",
       "      <td>8834</td>\n",
       "    </tr>\n",
       "    <tr>\n",
       "      <th>1</th>\n",
       "      <td>108775044</td>\n",
       "      <td>108775</td>\n",
       "      <td>12855</td>\n",
       "      <td>253</td>\n",
       "      <td>9</td>\n",
       "      <td>0</td>\n",
       "      <td>1010016</td>\n",
       "      <td>0</td>\n",
       "      <td>10</td>\n",
       "      <td>2</td>\n",
       "      <td>...</td>\n",
       "      <td>10</td>\n",
       "      <td>0</td>\n",
       "      <td>0</td>\n",
       "      <td>1</td>\n",
       "      <td>0</td>\n",
       "      <td>16</td>\n",
       "      <td>30</td>\n",
       "      <td>1002</td>\n",
       "      <td>2</td>\n",
       "      <td>8834</td>\n",
       "    </tr>\n",
       "    <tr>\n",
       "      <th>2</th>\n",
       "      <td>108775051</td>\n",
       "      <td>108775</td>\n",
       "      <td>44846</td>\n",
       "      <td>253</td>\n",
       "      <td>9</td>\n",
       "      <td>0</td>\n",
       "      <td>1010017</td>\n",
       "      <td>3</td>\n",
       "      <td>11</td>\n",
       "      <td>11</td>\n",
       "      <td>...</td>\n",
       "      <td>10</td>\n",
       "      <td>0</td>\n",
       "      <td>0</td>\n",
       "      <td>1</td>\n",
       "      <td>0</td>\n",
       "      <td>16</td>\n",
       "      <td>30</td>\n",
       "      <td>1002</td>\n",
       "      <td>2</td>\n",
       "      <td>8834</td>\n",
       "    </tr>\n",
       "    <tr>\n",
       "      <th>3</th>\n",
       "      <td>110065001</td>\n",
       "      <td>110065</td>\n",
       "      <td>8159</td>\n",
       "      <td>306</td>\n",
       "      <td>13</td>\n",
       "      <td>4</td>\n",
       "      <td>1010016</td>\n",
       "      <td>0</td>\n",
       "      <td>9</td>\n",
       "      <td>0</td>\n",
       "      <td>...</td>\n",
       "      <td>131</td>\n",
       "      <td>7</td>\n",
       "      <td>7</td>\n",
       "      <td>1</td>\n",
       "      <td>0</td>\n",
       "      <td>61</td>\n",
       "      <td>5</td>\n",
       "      <td>1017</td>\n",
       "      <td>4</td>\n",
       "      <td>8243</td>\n",
       "    </tr>\n",
       "    <tr>\n",
       "      <th>4</th>\n",
       "      <td>110065002</td>\n",
       "      <td>110065</td>\n",
       "      <td>8159</td>\n",
       "      <td>306</td>\n",
       "      <td>13</td>\n",
       "      <td>4</td>\n",
       "      <td>1010016</td>\n",
       "      <td>0</td>\n",
       "      <td>10</td>\n",
       "      <td>2</td>\n",
       "      <td>...</td>\n",
       "      <td>131</td>\n",
       "      <td>7</td>\n",
       "      <td>7</td>\n",
       "      <td>1</td>\n",
       "      <td>0</td>\n",
       "      <td>61</td>\n",
       "      <td>5</td>\n",
       "      <td>1017</td>\n",
       "      <td>4</td>\n",
       "      <td>8243</td>\n",
       "    </tr>\n",
       "  </tbody>\n",
       "</table>\n",
       "<p>5 rows × 25 columns</p>\n",
       "</div>"
      ],
      "text/plain": [
       "   article_id  product_code  prod_name  product_type_no  product_type_name  \\\n",
       "0   108775015        108775      12855              253                  9   \n",
       "1   108775044        108775      12855              253                  9   \n",
       "2   108775051        108775      44846              253                  9   \n",
       "3   110065001        110065       8159              306                 13   \n",
       "4   110065002        110065       8159              306                 13   \n",
       "\n",
       "   product_group_name  graphical_appearance_no  graphical_appearance_name  \\\n",
       "0                   0                  1010016                          0   \n",
       "1                   0                  1010016                          0   \n",
       "2                   0                  1010017                          3   \n",
       "3                   4                  1010016                          0   \n",
       "4                   4                  1010016                          0   \n",
       "\n",
       "   colour_group_code  colour_group_name  ...  department_name  index_code  \\\n",
       "0                  9                  0  ...               10           0   \n",
       "1                 10                  2  ...               10           0   \n",
       "2                 11                 11  ...               10           0   \n",
       "3                  9                  0  ...              131           7   \n",
       "4                 10                  2  ...              131           7   \n",
       "\n",
       "   index_name  index_group_no  index_group_name  section_no  section_name  \\\n",
       "0           0               1                 0          16            30   \n",
       "1           0               1                 0          16            30   \n",
       "2           0               1                 0          16            30   \n",
       "3           7               1                 0          61             5   \n",
       "4           7               1                 0          61             5   \n",
       "\n",
       "   garment_group_no  garment_group_name  detail_desc  \n",
       "0              1002                   2         8834  \n",
       "1              1002                   2         8834  \n",
       "2              1002                   2         8834  \n",
       "3              1017                   4         8243  \n",
       "4              1017                   4         8243  \n",
       "\n",
       "[5 rows x 25 columns]"
      ]
     },
     "execution_count": 5,
     "metadata": {},
     "output_type": "execute_result"
    }
   ],
   "source": [
    "articles.head()"
   ]
  },
  {
   "cell_type": "code",
   "execution_count": 6,
   "id": "65d5ad9c",
   "metadata": {},
   "outputs": [],
   "source": [
    "# product_type_name,department_name,graphical_appearance_name,colour_group_name"
   ]
  },
  {
   "cell_type": "code",
   "execution_count": 7,
   "id": "be13be29",
   "metadata": {},
   "outputs": [
    {
     "data": {
      "text/html": [
       "<div>\n",
       "<style scoped>\n",
       "    .dataframe tbody tr th:only-of-type {\n",
       "        vertical-align: middle;\n",
       "    }\n",
       "\n",
       "    .dataframe tbody tr th {\n",
       "        vertical-align: top;\n",
       "    }\n",
       "\n",
       "    .dataframe thead th {\n",
       "        text-align: right;\n",
       "    }\n",
       "</style>\n",
       "<table border=\"1\" class=\"dataframe\">\n",
       "  <thead>\n",
       "    <tr style=\"text-align: right;\">\n",
       "      <th></th>\n",
       "      <th>t_dat</th>\n",
       "      <th>customer_id</th>\n",
       "      <th>article_id</th>\n",
       "      <th>price</th>\n",
       "      <th>sales_channel_id</th>\n",
       "      <th>week</th>\n",
       "    </tr>\n",
       "  </thead>\n",
       "  <tbody>\n",
       "    <tr>\n",
       "      <th>25784</th>\n",
       "      <td>2018-09-20</td>\n",
       "      <td>1728846800780188</td>\n",
       "      <td>519773001</td>\n",
       "      <td>0.028458</td>\n",
       "      <td>2</td>\n",
       "      <td>0</td>\n",
       "    </tr>\n",
       "    <tr>\n",
       "      <th>25785</th>\n",
       "      <td>2018-09-20</td>\n",
       "      <td>1728846800780188</td>\n",
       "      <td>578472001</td>\n",
       "      <td>0.032525</td>\n",
       "      <td>2</td>\n",
       "      <td>0</td>\n",
       "    </tr>\n",
       "    <tr>\n",
       "      <th>5389</th>\n",
       "      <td>2018-09-20</td>\n",
       "      <td>2076973761519164</td>\n",
       "      <td>661795002</td>\n",
       "      <td>0.167797</td>\n",
       "      <td>2</td>\n",
       "      <td>0</td>\n",
       "    </tr>\n",
       "    <tr>\n",
       "      <th>5390</th>\n",
       "      <td>2018-09-20</td>\n",
       "      <td>2076973761519164</td>\n",
       "      <td>684080003</td>\n",
       "      <td>0.101678</td>\n",
       "      <td>2</td>\n",
       "      <td>0</td>\n",
       "    </tr>\n",
       "    <tr>\n",
       "      <th>47429</th>\n",
       "      <td>2018-09-20</td>\n",
       "      <td>2918879973994241</td>\n",
       "      <td>662980001</td>\n",
       "      <td>0.033881</td>\n",
       "      <td>1</td>\n",
       "      <td>0</td>\n",
       "    </tr>\n",
       "  </tbody>\n",
       "</table>\n",
       "</div>"
      ],
      "text/plain": [
       "           t_dat       customer_id  article_id     price  sales_channel_id  \\\n",
       "25784 2018-09-20  1728846800780188   519773001  0.028458                 2   \n",
       "25785 2018-09-20  1728846800780188   578472001  0.032525                 2   \n",
       "5389  2018-09-20  2076973761519164   661795002  0.167797                 2   \n",
       "5390  2018-09-20  2076973761519164   684080003  0.101678                 2   \n",
       "47429 2018-09-20  2918879973994241   662980001  0.033881                 1   \n",
       "\n",
       "       week  \n",
       "25784     0  \n",
       "25785     0  \n",
       "5389      0  \n",
       "5390      0  \n",
       "47429     0  "
      ]
     },
     "execution_count": 7,
     "metadata": {},
     "output_type": "execute_result"
    }
   ],
   "source": [
    "df.head()"
   ]
  },
  {
   "cell_type": "code",
   "execution_count": 8,
   "id": "71daa8d7",
   "metadata": {},
   "outputs": [
    {
     "data": {
      "text/plain": [
       "39    635891\n",
       "91    549443\n",
       "40    518946\n",
       "62    518403\n",
       "92    517428\n",
       "Name: week, dtype: int64"
      ]
     },
     "execution_count": 8,
     "metadata": {},
     "output_type": "execute_result"
    }
   ],
   "source": [
    "df.week.value_counts().head()"
   ]
  },
  {
   "cell_type": "markdown",
   "id": "d3e8be8f",
   "metadata": {},
   "source": [
    "## 召回数据集 "
   ]
  },
  {
   "cell_type": "code",
   "execution_count": 9,
   "id": "ec9feacc",
   "metadata": {},
   "outputs": [],
   "source": [
    "def recall_rules_cmb(val_week,train_type=True):\n",
    "    actual = df[df.week==val_week].groupby('customer_id')['article_id'].apply(list).reset_index()\n",
    "    actual['article_id'] = [iter_to_str(xx) for xx in actual['article_id']]\n",
    "    \n",
    "    if train_type:\n",
    "        sub_part = sub[sub.customer_id.isin(actual.customer_id.unique())]\n",
    "    else:\n",
    "        sub_part = sub.copy()\n",
    "\n",
    "        \n",
    "    ##hot\n",
    "    sub_actual = pd.merge(sub_part,actual,how='left',on='customer_id')\n",
    "    sub_actual['prediction'] = iter_to_str(df[df.week.isin([val_week-1])]['article_id'].value_counts().head(24).index.tolist())#24\n",
    "\n",
    "    ##last buy\n",
    "    sub_actual_2 = sub_actual.copy()\n",
    "    del sub_actual_2['prediction']\n",
    "    last_date = df.loc[df.week < val_week].t_dat.max()\n",
    "\n",
    "    init_date = last_date - dt.timedelta(days=9999)\n",
    "    df2 = df.loc[(df.t_dat >= init_date) & (df.t_dat <= last_date)].copy()\n",
    "    df2 = df2.merge(df2.groupby('customer_id').t_dat.max().reset_index().rename(columns={'t_dat':'l_dat'}),\n",
    "                       on = 'customer_id', how='left')\n",
    "    df2['d_dat'] = (df2.l_dat - df2.t_dat).dt.days\n",
    "    df2 = df2.loc[df2.d_dat < 14].sort_values(['t_dat'], ascending=False).drop_duplicates(['customer_id', 'article_id'])\n",
    "    last_buy = df2.groupby('customer_id')['article_id'].apply(list).reset_index()\n",
    "    # last_buy = df[df.week.isin([val_week-1,val_week-2,val_week-3])].groupby('customer_id')['article_id'].apply(list).reset_index()\n",
    "    last_buy['article_id'] = [iter_to_str(xx) for xx in last_buy['article_id']]\n",
    "    last_buy.columns = ['customer_id','prediction']\n",
    "    sub_actual_2 = pd.merge(sub_actual_2,last_buy,how='left',on='customer_id')\n",
    "\n",
    "\n",
    "    ##same color\n",
    "    init_date = last_date - dt.timedelta(days=6)\n",
    "    df3 = df.loc[(df.t_dat >= init_date) & (df.t_dat <= last_date)].copy()\\\n",
    "        .groupby(['article_id']).t_dat.count().reset_index()\n",
    "\n",
    "    adf = pd.read_parquet('../input/hm-parquets-of-datasets/articles.parquet')\n",
    "    adf = adf.merge(df3, on='article_id', how='left').rename(columns={'t_dat':'ct'})\\\n",
    "        .sort_values('ct', ascending=False).query('ct > 0')\n",
    "\n",
    "    map_to_col = defaultdict(list)\n",
    "    for aid in adf.article_id.tolist():\n",
    "        map_to_col[aid] = list(filter(lambda x: x != aid, adf[adf.product_code == aid // 1000].article_id.tolist()))[:1]\n",
    "\n",
    "    def map_to_variation(s):\n",
    "        f = lambda item: iter_to_str(map_to_col[int(item)])\n",
    "        return ' '.join(map(f, s.split()))\n",
    "    last_buy['other_colors'] = last_buy['prediction'].fillna('').apply(map_to_variation)\n",
    "\n",
    "\n",
    "    del last_buy['prediction']\n",
    "    last_buy.columns = ['customer_id','prediction']\n",
    "    sub_actual_3 = sub_actual.copy()\n",
    "    del sub_actual_3['prediction']\n",
    "    sub_actual_3 = pd.merge(sub_actual_3,last_buy,how='left',on='customer_id')\n",
    "    \n",
    "    \n",
    "\n",
    "\n",
    "    \n",
    "    \n",
    "    sub_total = pd.merge(sub_actual[['customer_id','article_id','prediction']],\\\n",
    "                         sub_actual_2[['customer_id','prediction']],\\\n",
    "                        how='left',on='customer_id')\n",
    "    sub_total = pd.merge(sub_total,sub_actual_3[['customer_id','prediction']],\\\n",
    "                        how='left',on='customer_id')\n",
    "\n",
    "    \n",
    "    sub_total.columns = ['customer_id','actual','hot','old_buy','other_color']\n",
    "    sub_total = sub_total.fillna('')\n",
    "\n",
    "    init_date = last_date - dt.timedelta(days=11)\n",
    "    sold_set = set(df.loc[(df.t_dat >= init_date) & (df.t_dat <= last_date)].article_id.tolist())\n",
    "    sub_total['prediction'] = sub_total[['old_buy', 'other_color', 'hot']]\\\n",
    "        .apply(blend, w=[100, 10, 1], axis=1, k=50).apply(prune, ok_set=sold_set, k=48)\n",
    "\n",
    "    sub_total = sub_total[['customer_id','actual','prediction']]\n",
    "    sub_total['article_id'] = [[int(xxx) for xxx in xx.split(' ')] if xx!='' else np.nan for xx in sub_total.actual]\n",
    "    sub_total['pred'] = [[int(xxx) for xxx in xx.split(' ')] if xx!='' else [] for xx in sub_total.prediction]\n",
    "\n",
    "\n",
    "    return sub_total\n"
   ]
  },
  {
   "cell_type": "code",
   "execution_count": 10,
   "id": "884f083c",
   "metadata": {},
   "outputs": [
    {
     "data": {
      "text/plain": [
       "0.02569"
      ]
     },
     "execution_count": 10,
     "metadata": {},
     "output_type": "execute_result"
    }
   ],
   "source": [
    "#####验证召回的得分\n",
    "valset_104 = recall_rules_cmb(104)\n",
    "ap12 = mapk(valset_104.article_id, valset_104.pred, return_apks=True)\n",
    "map12 = round(np.mean(ap12), 6)\n",
    "map12 "
   ]
  },
  {
   "cell_type": "markdown",
   "id": "45d14928",
   "metadata": {},
   "source": [
    "## 排序模型数据集建立"
   ]
  },
  {
   "cell_type": "code",
   "execution_count": 12,
   "id": "49eded75",
   "metadata": {},
   "outputs": [],
   "source": [
    "def get_max_dat(feature_week):\n",
    "    last_date = df.loc[df.week == feature_week].t_dat.max()\n",
    "    init_date = last_date - dt.timedelta(days=9999)\n",
    "    print('init_date:',init_date)\n",
    "    print('last_date:',last_date)\n",
    "\n",
    "    df2 = df.loc[(df.t_dat >= init_date) & (df.t_dat <= last_date)].copy()\n",
    "    df2 = df2.merge(df2.groupby('customer_id').t_dat.max().reset_index().rename(columns={'t_dat':'l_dat'}),\n",
    "                       on = 'customer_id', how='left')\n",
    "    df2['d_dat'] = (df2.l_dat - df2.t_dat).dt.days\n",
    "    df2 = df2.loc[df2.d_dat < 100000].sort_values(['t_dat'], ascending=False).drop_duplicates(['customer_id', 'article_id'])\n",
    "    return df2[['customer_id', 'article_id','d_dat']]"
   ]
  },
  {
   "cell_type": "code",
   "execution_count": 13,
   "id": "f54ef218",
   "metadata": {},
   "outputs": [],
   "source": [
    "def split_row_rank(data, column):\n",
    "    \"\"\"拆分成行\n",
    "    :param data: 原始数据\n",
    "    :param column: 拆分的列名\n",
    "    :type data: pandas.core.frame.DataFrame\n",
    "    :type column: str\n",
    "    \"\"\"\n",
    "    row_len = list(map(len, data[column].values))\n",
    "    rows = []\n",
    "    for i in data.columns:\n",
    "        if i == column:\n",
    "            row = np.concatenate(data[i].values)\n",
    "        else:\n",
    "            row = np.repeat(data[i].values, row_len)\n",
    "        rows.append(row)\n",
    "    tmp = pd.DataFrame(np.dstack(tuple(rows))[0], columns=data.columns.tolist())\n",
    "    tmp = tmp.reset_index()\n",
    "    tmp['recall_rank'] = tmp.groupby('customer_id')['index'].rank()\n",
    "    del tmp['index']\n",
    "    tmp = tmp[['customer_id','pred','recall_rank']]\n",
    "    tmp.columns = ['customer_id','article_id','recall_rank']\n",
    "    return tmp\n",
    "\n",
    "def split_row(data, column):\n",
    "    \"\"\"拆分成行\n",
    "    :param data: 原始数据\n",
    "    :param column: 拆分的列名\n",
    "    :type data: pandas.core.frame.DataFrame\n",
    "    :type column: str\n",
    "    \"\"\"\n",
    "    row_len = list(map(len, data[column].values))\n",
    "    rows = []\n",
    "    for i in data.columns:\n",
    "        if i == column:\n",
    "            row = np.concatenate(data[i].values)\n",
    "        else:\n",
    "            row = np.repeat(data[i].values, row_len)\n",
    "        rows.append(row)\n",
    "    return pd.DataFrame(np.dstack(tuple(rows))[0], columns=data.columns)"
   ]
  },
  {
   "cell_type": "code",
   "execution_count": 14,
   "id": "c84db540",
   "metadata": {},
   "outputs": [],
   "source": [
    "def gen_train_dataset(valset):\n",
    "    traindata = valset.copy()\n",
    "    \n",
    "    recall_rank_pd = split_row_rank(traindata, 'pred')\n",
    "    \n",
    "    traindata['buy_not'] = [list(set(yy)-set(xx)) for (xx,yy) in zip(traindata['article_id'],traindata['pred'])]\n",
    "    traindata1 = split_row(traindata, 'article_id')\n",
    "    traindata1['purchased'] = 1\n",
    "    traindata1 = traindata1[['customer_id','article_id','purchased']]\n",
    "    traindata0 = split_row(traindata, 'buy_not')\n",
    "    traindata0['purchased'] = 0\n",
    "    traindata0 = traindata0[['customer_id','buy_not','purchased']]\n",
    "    traindata0.columns = ['customer_id','article_id','purchased']\n",
    "    traindata1.columns = ['customer_id','article_id','purchased']\n",
    "    traindata01 = pd.concat([traindata0,traindata1]).reset_index(drop=True)\n",
    "    traindata01 = pd.merge(traindata01,recall_rank_pd,how='left',on=['customer_id','article_id'])\n",
    "    \n",
    "    return traindata01"
   ]
  },
  {
   "cell_type": "code",
   "execution_count": 15,
   "id": "266f07d7",
   "metadata": {},
   "outputs": [],
   "source": [
    "def gen_test_dataset(valset):\n",
    "    traindata = valset.copy()\n",
    "    recall_rank_pd = split_row_rank(traindata, 'pred')\n",
    "\n",
    "    traindata0 = split_row(traindata, 'pred')\n",
    "    traindata0['purchased'] = 0\n",
    "    traindata0 = traindata0[['customer_id','pred','purchased']]\n",
    "    traindata0.columns = ['customer_id','article_id','purchased']\n",
    "    traindata0 = pd.merge(traindata0,recall_rank_pd,how='left',on=['customer_id','article_id'])\n",
    "\n",
    "    return traindata0"
   ]
  },
  {
   "cell_type": "code",
   "execution_count": 16,
   "id": "a77cda18",
   "metadata": {},
   "outputs": [],
   "source": [
    "def gen_feature(traindata01,feature_week):\n",
    "    \n",
    "    ## 最近一周购买商品数/type数\n",
    "    feature_user1 = df[df.week.isin([feature_week])].groupby(['customer_id',])['price'].agg(['count','mean']).reset_index()\n",
    "    feature_user1.columns = ['customer_id','user_last1_week_buy_number','user_last1_week_buy_price']\n",
    "\n",
    "    \n",
    "    ## 最近两周购买商品数\n",
    "    feature_user2 = df[(df.week<=feature_week)&(df.week>feature_week-3)].groupby(['customer_id',])['price'].agg(['count','mean']).reset_index()\n",
    "    feature_user2.columns = ['customer_id','user_last2_week_buy_number','user_last2_week_buy_price']\n",
    "\n",
    "    \n",
    "    ## 最近三周购买商品数\n",
    "    feature_user3 = df[(df.week<=feature_week)&(df.week>feature_week-9)].groupby(['customer_id',])['price'].agg(['count','mean']).reset_index()\n",
    "    feature_user3.columns = ['customer_id','user_last3_week_buy_number','user_last3_week_buy_price'] \n",
    "\n",
    "    \n",
    "    \n",
    "    ## 最近一周商品数卖出数量\n",
    "    feature_article1 = df[df.week.isin([feature_week])].groupby(['article_id'])['price'].agg(['count','mean']).reset_index()\n",
    "    feature_article1.columns = ['article_id','article_last1_week_buy_number','article_last1_week_buy_price']\n",
    "    ## 最近两周商品数卖出数量\n",
    "    feature_article2 = df[(df.week<=feature_week)&(df.week>feature_week-3)].groupby(['article_id'])['price'].agg(['count','mean']).reset_index()\n",
    "    feature_article2.columns = ['article_id','article_last2_week_buy_number','article_last2_week_buy_price']\n",
    "    ## 最近三周商品数卖出数量\n",
    "    feature_article3 = df[(df.week<=feature_week)&(df.week>feature_week-9)].groupby(['article_id'])['price'].agg(['count','mean']).reset_index()\n",
    "    feature_article3.columns = ['article_id','article_last3_week_buy_number','article_last3_week_buy_price']\n",
    "    \n",
    "    ###上一周购买次数\n",
    "    feature1 = df[df.week.isin([feature_week])].groupby(['customer_id','article_id'])['price'].count().reset_index()\n",
    "    feature1.columns = ['customer_id','article_id','last1_week_buy']\n",
    "    ###上两周购买次数\n",
    "    feature2 = df[df.week.isin([feature_week,feature_week-1])].groupby(['customer_id','article_id'])['price'].count().reset_index()\n",
    "    feature2.columns = ['customer_id','article_id','last2_week_buy']\n",
    "    ###上三周购买次数\n",
    "    feature3 = df[df.week.isin([feature_week,feature_week-1,feature_week-2])].groupby(['customer_id','article_id'])['price'].count().reset_index()\n",
    "    feature3.columns = ['customer_id','article_id','last3_week_buy']\n",
    "    ##最近一次购买时间\n",
    "    part = df[(df.week<=feature_week)&(df.week>feature_week-9)]\n",
    "    last_date_train = part.t_dat.max()\n",
    "    part['day_lag'] = ((last_date_train - part['t_dat']) / np.timedelta64(1, 'D')).astype(int)\n",
    "    feature4 = part.groupby(['customer_id','article_id'])['day_lag'].min().reset_index()\n",
    "    a, b, c, d = 2.5e4, 1.5e5, 2e-1, 1e3\n",
    "    feature4.columns = ['customer_id','article_id','recent_buy_day_gap']\n",
    "    feature4['recent_buy_day_gap'] = a / np.sqrt(feature4['recent_buy_day_gap']) +\\\n",
    "                                    b * np.exp(-c*feature4['recent_buy_day_gap']) - d\n",
    "    feature5 = get_max_dat(feature_week)\n",
    "\n",
    "    traindataall = pd.merge(traindata01,feature_user1,how='left',on='customer_id')\n",
    "    traindataall = pd.merge(traindataall,feature_user2,how='left',on='customer_id')\n",
    "    traindataall = pd.merge(traindataall,feature_article1,how='left',on='article_id')\n",
    "    traindataall = pd.merge(traindataall,feature_article2,how='left',on='article_id')\n",
    "    traindataall = pd.merge(traindataall,feature1,how='left',on=['customer_id','article_id'])\n",
    "    traindataall = pd.merge(traindataall,feature2,how='left',on=['customer_id','article_id'])\n",
    "    traindataall = pd.merge(traindataall,feature3,how='left',on=['customer_id','article_id'])\n",
    "    traindataall = pd.merge(traindataall,feature4,how='left',on=['customer_id','article_id'])\n",
    "    traindataall = pd.merge(traindataall,feature5,how='left',on=['customer_id','article_id'])\n",
    "\n",
    "    traindataall = pd.merge(traindataall,customers[['customer_id','fashion_news_frequency','age']],\n",
    "                        how='left',on='customer_id')\n",
    "    \n",
    "    traindataall = pd.merge(traindataall,articles[['article_id','product_type_no', \n",
    "                                                 'product_group_name', 'graphical_appearance_no',\n",
    "                                                'colour_group_code',\n",
    "                                                'perceived_colour_value_id',\n",
    "                                                'perceived_colour_master_id',\n",
    "                                                'department_no', 'index_code',\n",
    "                                                'index_group_no', 'section_no',\n",
    "                                                'garment_group_no']],\n",
    "                                                how='left',on='article_id')\n",
    "    return traindataall\n",
    "\n"
   ]
  },
  {
   "cell_type": "code",
   "execution_count": 17,
   "id": "bd978a2d",
   "metadata": {},
   "outputs": [
    {
     "name": "stderr",
     "output_type": "stream",
     "text": [
      "<ipython-input-16-4834f1e0954e>:51: SettingWithCopyWarning: \n",
      "A value is trying to be set on a copy of a slice from a DataFrame.\n",
      "Try using .loc[row_indexer,col_indexer] = value instead\n",
      "\n",
      "See the caveats in the documentation: https://pandas.pydata.org/pandas-docs/stable/user_guide/indexing.html#returning-a-view-versus-a-copy\n",
      "  part['day_lag'] = ((last_date_train - part['t_dat']) / np.timedelta64(1, 'D')).astype(int)\n"
     ]
    },
    {
     "name": "stdout",
     "output_type": "stream",
     "text": [
      "init_date: 1993-05-01 00:00:00\n",
      "last_date: 2020-09-15 00:00:00\n"
     ]
    }
   ],
   "source": [
    "\n",
    "testdata_104 = gen_test_dataset(valset_104)\n",
    "testdata_104 = gen_feature(testdata_104,104-1)"
   ]
  },
  {
   "cell_type": "code",
   "execution_count": 18,
   "id": "5758f039",
   "metadata": {},
   "outputs": [
    {
     "name": "stdout",
     "output_type": "stream",
     "text": [
      "-----\n",
      "103 0.024316\n"
     ]
    },
    {
     "name": "stderr",
     "output_type": "stream",
     "text": [
      "<ipython-input-16-4834f1e0954e>:51: SettingWithCopyWarning: \n",
      "A value is trying to be set on a copy of a slice from a DataFrame.\n",
      "Try using .loc[row_indexer,col_indexer] = value instead\n",
      "\n",
      "See the caveats in the documentation: https://pandas.pydata.org/pandas-docs/stable/user_guide/indexing.html#returning-a-view-versus-a-copy\n",
      "  part['day_lag'] = ((last_date_train - part['t_dat']) / np.timedelta64(1, 'D')).astype(int)\n"
     ]
    },
    {
     "name": "stdout",
     "output_type": "stream",
     "text": [
      "init_date: 1993-04-24 00:00:00\n",
      "last_date: 2020-09-08 00:00:00\n"
     ]
    }
   ],
   "source": [
    "traindataall = []\n",
    "# for ii in range(99,104):  ##260\n",
    "for ii in range(103,104):\n",
    "    print('-----')\n",
    "    valset_103 = recall_rules_cmb(ii)\n",
    "    ap12 = mapk(valset_103.article_id, valset_103.pred, return_apks=True)\n",
    "    map12 = round(np.mean(ap12), 6)\n",
    "    print(ii,map12)\n",
    "    traindata_103 = gen_train_dataset(valset_103)\n",
    "    traindata_103 = gen_feature(traindata_103,ii-1)\n",
    "    traindataall.append(traindata_103)\n",
    "traindataall = pd.concat(traindataall).reset_index(drop=True)"
   ]
  },
  {
   "cell_type": "code",
   "execution_count": 19,
   "id": "14c1dcb4",
   "metadata": {},
   "outputs": [
    {
     "data": {
      "text/plain": [
       "Index(['customer_id', 'article_id', 'purchased', 'recall_rank',\n",
       "       'user_last1_week_buy_number', 'user_last1_week_buy_price',\n",
       "       'user_last2_week_buy_number', 'user_last2_week_buy_price',\n",
       "       'article_last1_week_buy_number', 'article_last1_week_buy_price',\n",
       "       'article_last2_week_buy_number', 'article_last2_week_buy_price',\n",
       "       'last1_week_buy', 'last2_week_buy', 'last3_week_buy',\n",
       "       'recent_buy_day_gap', 'd_dat', 'fashion_news_frequency', 'age',\n",
       "       'product_type_no', 'product_group_name', 'graphical_appearance_no',\n",
       "       'colour_group_code', 'perceived_colour_value_id',\n",
       "       'perceived_colour_master_id', 'department_no', 'index_code',\n",
       "       'index_group_no', 'section_no', 'garment_group_no'],\n",
       "      dtype='object')"
      ]
     },
     "execution_count": 19,
     "metadata": {},
     "output_type": "execute_result"
    }
   ],
   "source": [
    "testdata_104.columns "
   ]
  },
  {
   "cell_type": "code",
   "execution_count": 20,
   "id": "4aad0eaf",
   "metadata": {},
   "outputs": [
    {
     "data": {
      "text/plain": [
       "customer_id\n",
       "1402273113592184        24\n",
       "1827730561464445        36\n",
       "1951136007097426        24\n",
       "2639747769247776        34\n",
       "3177658828628418        24\n",
       "                        ..\n",
       "18444954504588539615    32\n",
       "18445164350380731040    40\n",
       "18445340048433064259    29\n",
       "18445641720816255142    31\n",
       "18446737527580148316    35\n",
       "Name: article_id, Length: 68984, dtype: int64"
      ]
     },
     "execution_count": 20,
     "metadata": {},
     "output_type": "execute_result"
    }
   ],
   "source": [
    "testdata_104.groupby('customer_id')['article_id'].count()"
   ]
  },
  {
   "cell_type": "code",
   "execution_count": 21,
   "id": "40df8488",
   "metadata": {},
   "outputs": [
    {
     "data": {
      "text/plain": [
       "['recall_rank',\n",
       " 'user_last1_week_buy_number',\n",
       " 'user_last1_week_buy_price',\n",
       " 'user_last2_week_buy_number',\n",
       " 'user_last2_week_buy_price',\n",
       " 'article_last1_week_buy_number',\n",
       " 'article_last1_week_buy_price',\n",
       " 'article_last2_week_buy_number',\n",
       " 'article_last2_week_buy_price',\n",
       " 'last1_week_buy',\n",
       " 'last2_week_buy',\n",
       " 'last3_week_buy',\n",
       " 'recent_buy_day_gap',\n",
       " 'd_dat',\n",
       " 'fashion_news_frequency',\n",
       " 'age',\n",
       " 'product_type_no',\n",
       " 'product_group_name',\n",
       " 'graphical_appearance_no',\n",
       " 'colour_group_code',\n",
       " 'perceived_colour_value_id',\n",
       " 'perceived_colour_master_id',\n",
       " 'department_no',\n",
       " 'index_code',\n",
       " 'index_group_no',\n",
       " 'section_no',\n",
       " 'garment_group_no']"
      ]
     },
     "execution_count": 21,
     "metadata": {},
     "output_type": "execute_result"
    }
   ],
   "source": [
    "features = testdata_104.columns.tolist()[3:]\n",
    "features"
   ]
  },
  {
   "cell_type": "markdown",
   "id": "4ec8648e",
   "metadata": {},
   "source": [
    "## 排序模型训练"
   ]
  },
  {
   "cell_type": "code",
   "execution_count": 37,
   "id": "e4756633",
   "metadata": {},
   "outputs": [],
   "source": [
    "from lightgbm.sklearn import LGBMRanker\n",
    "from lightgbm import LGBMClassifier\n",
    "modellist = []\n",
    "\n",
    "traindataall.sort_values(by=['customer_id'], inplace=True)\n",
    "# traindataall = pd.concat([traindata_100,traindata_101,traindata_102,traindata_103])\n",
    "testdataall = pd.concat([testdata_104])\n",
    "\n",
    "y = traindataall['purchased']\n",
    "\n",
    "train_baskets = traindataall.groupby(['customer_id'])['article_id'].count().values\n",
    "\n",
    "\n",
    "ranker = LGBMRanker(\n",
    "    objective=\"lambdarank\",\n",
    "    metric=\"ndcg\",\n",
    "    boosting_type=\"dart\",\n",
    "    max_depth=7,\n",
    "    n_estimators=300,\n",
    "    importance_type='gain',\n",
    "    verbose=10\n",
    ")\n",
    "\n",
    "ranker = ranker.fit(\n",
    "        traindataall[features],\n",
    "        y,\n",
    "        group=train_baskets,\n",
    "    )\n",
    "\n",
    "# ranker = LGBMClassifier(random_state=42)\n",
    "# ranker.fit(traindataall[features],y)\n",
    "modellist.append(ranker)\n"
   ]
  },
  {
   "cell_type": "code",
   "execution_count": 38,
   "id": "5687c6fd",
   "metadata": {},
   "outputs": [
    {
     "data": {
      "image/png": "[encoded data removed]",
      "text/plain": [
       "<Figure size 576x576 with 1 Axes>"
      ]
     },
     "metadata": {
      "needs_background": "light"
     },
     "output_type": "display_data"
    }
   ],
   "source": [
    "def print_gbm_model_feature_importance(model):\n",
    "    feature_names = features\n",
    "    importances = list(model.feature_importances_)\n",
    "    feature_importances = [(feature,round(importance)) for feature,importance in zip(feature_names,importances)]\n",
    "    feature_importances = sorted(feature_importances,key=lambda x:x[1],reverse=True)\n",
    "    return feature_importances\n",
    "import matplotlib.pyplot as plt\n",
    "import seaborn as sns\n",
    "\n",
    "feature_importance_df = []\n",
    "for model in [ranker]:\n",
    "    feature_importance_df_ = print_gbm_model_feature_importance(model)\n",
    "    feature_importance_df_ = pd.DataFrame(feature_importance_df_)\n",
    "    feature_importance_df_.columns = [\"feature\", \"importance\"]\n",
    "    feature_importance_df.append(feature_importance_df_)\n",
    "feature_importance_df = pd.concat(feature_importance_df)\n",
    "feature_importance_df = feature_importance_df.groupby('feature')['importance'].mean().reset_index()\n",
    "\n",
    "sss = feature_importance_df.sort_values(by=\"importance\", ascending=False).head(20)\n",
    "\n",
    "plt.figure(figsize=(8,8))\n",
    "sns.barplot(x=\"importance\", y=\"feature\", \n",
    "            data=sss)\n",
    "plt.title('LightGBM Features')\n",
    "plt.tight_layout()"
   ]
  },
  {
   "cell_type": "code",
   "execution_count": 39,
   "id": "e442210c",
   "metadata": {},
   "outputs": [],
   "source": [
    "pred = 0\n",
    "for ranker in modellist:\n",
    "#     tmp = ranker.predict_proba(testdataall[features])[:,1]\n",
    "    tmp = ranker.predict(testdataall[features])\n",
    "    pred+=tmp/len(modellist)"
   ]
  },
  {
   "cell_type": "code",
   "execution_count": 40,
   "id": "54368652",
   "metadata": {},
   "outputs": [],
   "source": [
    "testdataall['pred'] = pred"
   ]
  },
  {
   "cell_type": "code",
   "execution_count": 41,
   "id": "eb9201a0",
   "metadata": {},
   "outputs": [],
   "source": [
    "testdataall_pred = testdataall.sort_values(by='pred',ascending=False).reset_index(drop=True)\n",
    "testdataall_pred = testdataall_pred.groupby('customer_id')['article_id'].apply(list)\n"
   ]
  },
  {
   "cell_type": "code",
   "execution_count": 42,
   "id": "05910a4e",
   "metadata": {},
   "outputs": [
    {
     "data": {
      "text/html": [
       "<div>\n",
       "<style scoped>\n",
       "    .dataframe tbody tr th:only-of-type {\n",
       "        vertical-align: middle;\n",
       "    }\n",
       "\n",
       "    .dataframe tbody tr th {\n",
       "        vertical-align: top;\n",
       "    }\n",
       "\n",
       "    .dataframe thead th {\n",
       "        text-align: right;\n",
       "    }\n",
       "</style>\n",
       "<table border=\"1\" class=\"dataframe\">\n",
       "  <thead>\n",
       "    <tr style=\"text-align: right;\">\n",
       "      <th></th>\n",
       "      <th>customer_id</th>\n",
       "      <th>pred_lgb</th>\n",
       "    </tr>\n",
       "  </thead>\n",
       "  <tbody>\n",
       "    <tr>\n",
       "      <th>0</th>\n",
       "      <td>1402273113592184</td>\n",
       "      <td>[918292001, 448509014, 706016001, 909370001, 9...</td>\n",
       "    </tr>\n",
       "    <tr>\n",
       "      <th>1</th>\n",
       "      <td>1827730561464445</td>\n",
       "      <td>[894668003, 760084003, 547780003, 547780001, 8...</td>\n",
       "    </tr>\n",
       "    <tr>\n",
       "      <th>2</th>\n",
       "      <td>1951136007097426</td>\n",
       "      <td>[918292001, 918522001, 448509014, 909370001, 6...</td>\n",
       "    </tr>\n",
       "    <tr>\n",
       "      <th>3</th>\n",
       "      <td>2639747769247776</td>\n",
       "      <td>[896161001, 889870001, 865929003, 885951001, 8...</td>\n",
       "    </tr>\n",
       "    <tr>\n",
       "      <th>4</th>\n",
       "      <td>3177658828628418</td>\n",
       "      <td>[918292001, 448509014, 706016001, 909370001, 9...</td>\n",
       "    </tr>\n",
       "    <tr>\n",
       "      <th>...</th>\n",
       "      <td>...</td>\n",
       "      <td>...</td>\n",
       "    </tr>\n",
       "    <tr>\n",
       "      <th>68979</th>\n",
       "      <td>18444954504588539615</td>\n",
       "      <td>[807244017, 756318001, 820308004, 807244002, 8...</td>\n",
       "    </tr>\n",
       "    <tr>\n",
       "      <th>68980</th>\n",
       "      <td>18445164350380731040</td>\n",
       "      <td>[610776002, 708138026, 717370001, 918292001, 6...</td>\n",
       "    </tr>\n",
       "    <tr>\n",
       "      <th>68981</th>\n",
       "      <td>18445340048433064259</td>\n",
       "      <td>[906612002, 903141001, 906612001, 915526002, 9...</td>\n",
       "    </tr>\n",
       "    <tr>\n",
       "      <th>68982</th>\n",
       "      <td>18445641720816255142</td>\n",
       "      <td>[492892002, 918292001, 915529003, 673677002, 7...</td>\n",
       "    </tr>\n",
       "    <tr>\n",
       "      <th>68983</th>\n",
       "      <td>18446737527580148316</td>\n",
       "      <td>[678942001, 827968001, 827968002, 850917001, 6...</td>\n",
       "    </tr>\n",
       "  </tbody>\n",
       "</table>\n",
       "<p>68984 rows × 2 columns</p>\n",
       "</div>"
      ],
      "text/plain": [
       "                customer_id                                           pred_lgb\n",
       "0          1402273113592184  [918292001, 448509014, 706016001, 909370001, 9...\n",
       "1          1827730561464445  [894668003, 760084003, 547780003, 547780001, 8...\n",
       "2          1951136007097426  [918292001, 918522001, 448509014, 909370001, 6...\n",
       "3          2639747769247776  [896161001, 889870001, 865929003, 885951001, 8...\n",
       "4          3177658828628418  [918292001, 448509014, 706016001, 909370001, 9...\n",
       "...                     ...                                                ...\n",
       "68979  18444954504588539615  [807244017, 756318001, 820308004, 807244002, 8...\n",
       "68980  18445164350380731040  [610776002, 708138026, 717370001, 918292001, 6...\n",
       "68981  18445340048433064259  [906612002, 903141001, 906612001, 915526002, 9...\n",
       "68982  18445641720816255142  [492892002, 918292001, 915529003, 673677002, 7...\n",
       "68983  18446737527580148316  [678942001, 827968001, 827968002, 850917001, 6...\n",
       "\n",
       "[68984 rows x 2 columns]"
      ]
     },
     "execution_count": 42,
     "metadata": {},
     "output_type": "execute_result"
    }
   ],
   "source": [
    "testdataall_pred = testdataall_pred.reset_index()\n",
    "testdataall_pred.columns = ['customer_id','pred_lgb']\n",
    "testdataall_pred"
   ]
  },
  {
   "cell_type": "code",
   "execution_count": 43,
   "id": "52c694e1",
   "metadata": {},
   "outputs": [],
   "source": [
    "valset_104_lgb = pd.merge(valset_104,testdataall_pred,how='left',on='customer_id')"
   ]
  },
  {
   "cell_type": "code",
   "execution_count": 44,
   "id": "b2ea966c",
   "metadata": {},
   "outputs": [],
   "source": [
    "valset_104_lgb['pred_lgb'] = [[] if str(xx)=='nan' else xx for xx in valset_104_lgb.pred_lgb]\n"
   ]
  },
  {
   "cell_type": "code",
   "execution_count": 45,
   "id": "0e759d47",
   "metadata": {},
   "outputs": [
    {
     "data": {
      "text/html": [
       "<div>\n",
       "<style scoped>\n",
       "    .dataframe tbody tr th:only-of-type {\n",
       "        vertical-align: middle;\n",
       "    }\n",
       "\n",
       "    .dataframe tbody tr th {\n",
       "        vertical-align: top;\n",
       "    }\n",
       "\n",
       "    .dataframe thead th {\n",
       "        text-align: right;\n",
       "    }\n",
       "</style>\n",
       "<table border=\"1\" class=\"dataframe\">\n",
       "  <thead>\n",
       "    <tr style=\"text-align: right;\">\n",
       "      <th></th>\n",
       "      <th>customer_id</th>\n",
       "      <th>actual</th>\n",
       "      <th>prediction</th>\n",
       "      <th>article_id</th>\n",
       "      <th>pred</th>\n",
       "      <th>pred_lgb</th>\n",
       "    </tr>\n",
       "  </thead>\n",
       "  <tbody>\n",
       "    <tr>\n",
       "      <th>0</th>\n",
       "      <td>8215006181404469139</td>\n",
       "      <td>0624486001</td>\n",
       "      <td>0771602001 0706371005 0771602002 0706371001 09...</td>\n",
       "      <td>[624486001]</td>\n",
       "      <td>[771602001, 706371005, 771602002, 706371001, 9...</td>\n",
       "      <td>[918292001, 915529003, 715624001, 915526001, 7...</td>\n",
       "    </tr>\n",
       "    <tr>\n",
       "      <th>1</th>\n",
       "      <td>8282976502227659861</td>\n",
       "      <td>0827487003</td>\n",
       "      <td>0889036004 0880017001 0621381012 0640021012 09...</td>\n",
       "      <td>[827487003]</td>\n",
       "      <td>[889036004, 880017001, 621381012, 640021012, 9...</td>\n",
       "      <td>[889036004, 640021012, 621381012, 880017001, 6...</td>\n",
       "    </tr>\n",
       "  </tbody>\n",
       "</table>\n",
       "</div>"
      ],
      "text/plain": [
       "           customer_id      actual  \\\n",
       "0  8215006181404469139  0624486001   \n",
       "1  8282976502227659861  0827487003   \n",
       "\n",
       "                                          prediction   article_id  \\\n",
       "0  0771602001 0706371005 0771602002 0706371001 09...  [624486001]   \n",
       "1  0889036004 0880017001 0621381012 0640021012 09...  [827487003]   \n",
       "\n",
       "                                                pred  \\\n",
       "0  [771602001, 706371005, 771602002, 706371001, 9...   \n",
       "1  [889036004, 880017001, 621381012, 640021012, 9...   \n",
       "\n",
       "                                            pred_lgb  \n",
       "0  [918292001, 915529003, 715624001, 915526001, 7...  \n",
       "1  [889036004, 640021012, 621381012, 880017001, 6...  "
      ]
     },
     "execution_count": 45,
     "metadata": {},
     "output_type": "execute_result"
    }
   ],
   "source": [
    "valset_104_lgb.head(2)"
   ]
  },
  {
   "cell_type": "code",
   "execution_count": 46,
   "id": "8d2b8790",
   "metadata": {},
   "outputs": [
    {
     "data": {
      "text/plain": [
       "0.028036"
      ]
     },
     "execution_count": 46,
     "metadata": {},
     "output_type": "execute_result"
    }
   ],
   "source": [
    "#### 排序后的模型得分\n",
    "ap12 = mapk(valset_104_lgb.article_id, valset_104_lgb.pred_lgb, return_apks=True)\n",
    "map12 = round(np.mean(ap12), 6)\n",
    "map12"
   ]
  },
  {
   "cell_type": "code",
   "execution_count": 47,
   "id": "5e5462e5",
   "metadata": {},
   "outputs": [
    {
     "data": {
      "text/plain": [
       "0.02569"
      ]
     },
     "execution_count": 47,
     "metadata": {},
     "output_type": "execute_result"
    }
   ],
   "source": [
    "ap12 = mapk(valset_104_lgb.article_id, valset_104_lgb.pred, return_apks=True)\n",
    "map12 = round(np.mean(ap12), 6)\n",
    "map12"
   ]
  },
  {
   "cell_type": "markdown",
   "id": "43268bdd",
   "metadata": {},
   "source": [
    "###排序后验证得分从0.02569提高到了0.0280"
   ]
  },
  {
   "cell_type": "markdown",
   "id": "22585f04",
   "metadata": {},
   "source": [
    "## 把验证数据也加进到模型里面重新训练；使用99-104周的数据"
   ]
  },
  {
   "cell_type": "code",
   "execution_count": 48,
   "id": "9b6267d2",
   "metadata": {},
   "outputs": [
    {
     "name": "stdout",
     "output_type": "stream",
     "text": [
      "-----\n",
      "104 0.02569\n"
     ]
    },
    {
     "name": "stderr",
     "output_type": "stream",
     "text": [
      "<ipython-input-16-4834f1e0954e>:51: SettingWithCopyWarning: \n",
      "A value is trying to be set on a copy of a slice from a DataFrame.\n",
      "Try using .loc[row_indexer,col_indexer] = value instead\n",
      "\n",
      "See the caveats in the documentation: https://pandas.pydata.org/pandas-docs/stable/user_guide/indexing.html#returning-a-view-versus-a-copy\n",
      "  part['day_lag'] = ((last_date_train - part['t_dat']) / np.timedelta64(1, 'D')).astype(int)\n"
     ]
    },
    {
     "name": "stdout",
     "output_type": "stream",
     "text": [
      "init_date: 1993-05-01 00:00:00\n",
      "last_date: 2020-09-15 00:00:00\n"
     ]
    }
   ],
   "source": [
    "traindataall = []\n",
    "for ii in range(99,105):  \n",
    "    print('-----')\n",
    "    valset_103 = recall_rules_cmb(ii)\n",
    "    ap12 = mapk(valset_103.article_id, valset_103.pred, return_apks=True)\n",
    "    map12 = round(np.mean(ap12), 6)\n",
    "    print(ii,map12)\n",
    "    traindata_103 = gen_train_dataset(valset_103)\n",
    "    traindata_103 = gen_feature(traindata_103,ii-1)\n",
    "    traindataall.append(traindata_103)\n",
    "traindataall = pd.concat(traindataall).reset_index(drop=True)"
   ]
  },
  {
   "cell_type": "code",
   "execution_count": 50,
   "id": "616a546e",
   "metadata": {},
   "outputs": [],
   "source": [
    "from lightgbm.sklearn import LGBMRanker\n",
    "from lightgbm import LGBMClassifier\n",
    "modellist = []\n",
    "\n",
    "traindataall.sort_values(by=['customer_id'], inplace=True)\n",
    "\n",
    "y = traindataall['purchased']\n",
    "\n",
    "train_baskets = traindataall.groupby(['customer_id'])['article_id'].count().values\n",
    "\n",
    "\n",
    "ranker = LGBMRanker(\n",
    "    objective=\"lambdarank\",\n",
    "    metric=\"ndcg\",\n",
    "    boosting_type=\"dart\",\n",
    "    max_depth=7,\n",
    "    n_estimators=300,\n",
    "    importance_type='gain',\n",
    "    verbose=10\n",
    ")\n",
    "\n",
    "ranker = ranker.fit(\n",
    "        traindataall[features],\n",
    "        y,\n",
    "        group=train_baskets,\n",
    "    )\n",
    "\n",
    "modellist.append(ranker)\n"
   ]
  },
  {
   "cell_type": "code",
   "execution_count": 48,
   "id": "28a43e11",
   "metadata": {},
   "outputs": [
    {
     "data": {
      "text/plain": [
       "79"
      ]
     },
     "execution_count": 48,
     "metadata": {},
     "output_type": "execute_result"
    }
   ],
   "source": [
    "del traindataall\n",
    "import gc\n",
    "gc.collect()"
   ]
  },
  {
   "cell_type": "markdown",
   "id": "f9068fc4",
   "metadata": {},
   "source": [
    "## 生成最终的预测提交文件"
   ]
  },
  {
   "cell_type": "code",
   "execution_count": null,
   "id": "cb57e7fd",
   "metadata": {},
   "outputs": [],
   "source": [
    "def recall_rules(val_week):\n",
    "    top_sell_person = df[df.week.isin([val_week-1,val_week-2,val_week-3])].groupby('customer_id')['article_id'].apply(lambda x:x.value_counts().index[:12].tolist())\n",
    "    top_sell_person = top_sell_person.reset_index()\n",
    "    top_sell_person.columns = ['customer_id','pred']\n",
    "    valset = df[df.week==val_week].groupby('customer_id')['article_id'].apply(list).reset_index()\n",
    "    valset = pd.merge(valset,top_sell_person,how='left',on='customer_id')\n",
    "    top_sell = df[df.week.isin([val_week-1])].article_id.value_counts().index.tolist()[:12]\n",
    "    valset['pred'] = [top_sell if str(xx)=='nan' else xx for xx in valset.pred]\n",
    "    valset['pred'] = [xx+top_sell[:(12-len(xx))] if len(xx)<12 else xx for xx in valset.pred]\n",
    "    return valset\n",
    "\n"
   ]
  },
  {
   "cell_type": "code",
   "execution_count": 52,
   "id": "757d4f79",
   "metadata": {},
   "outputs": [],
   "source": [
    "test_week = 105\n",
    "valset_105 = recall_rules_cmb(test_week,train_type=False)"
   ]
  },
  {
   "cell_type": "code",
   "execution_count": 53,
   "id": "31b0086c",
   "metadata": {},
   "outputs": [
    {
     "data": {
      "text/html": [
       "<div>\n",
       "<style scoped>\n",
       "    .dataframe tbody tr th:only-of-type {\n",
       "        vertical-align: middle;\n",
       "    }\n",
       "\n",
       "    .dataframe tbody tr th {\n",
       "        vertical-align: top;\n",
       "    }\n",
       "\n",
       "    .dataframe thead th {\n",
       "        text-align: right;\n",
       "    }\n",
       "</style>\n",
       "<table border=\"1\" class=\"dataframe\">\n",
       "  <thead>\n",
       "    <tr style=\"text-align: right;\">\n",
       "      <th></th>\n",
       "      <th>customer_id</th>\n",
       "      <th>actual</th>\n",
       "      <th>prediction</th>\n",
       "      <th>article_id</th>\n",
       "      <th>pred</th>\n",
       "    </tr>\n",
       "  </thead>\n",
       "  <tbody>\n",
       "    <tr>\n",
       "      <th>0</th>\n",
       "      <td>6883939031699146327</td>\n",
       "      <td></td>\n",
       "      <td>0568601043 0568601006 0924243001 0924243002 09...</td>\n",
       "      <td>NaN</td>\n",
       "      <td>[568601043, 568601006, 924243001, 924243002, 9...</td>\n",
       "    </tr>\n",
       "    <tr>\n",
       "      <th>1</th>\n",
       "      <td>11246327431398957306</td>\n",
       "      <td></td>\n",
       "      <td>0826211002 0924243001 0924243002 0918522001 09...</td>\n",
       "      <td>NaN</td>\n",
       "      <td>[826211002, 924243001, 924243002, 918522001, 9...</td>\n",
       "    </tr>\n",
       "    <tr>\n",
       "      <th>2</th>\n",
       "      <td>18439897732908966680</td>\n",
       "      <td></td>\n",
       "      <td>0794321007 0794321008 0924243001 0924243002 09...</td>\n",
       "      <td>NaN</td>\n",
       "      <td>[794321007, 794321008, 924243001, 924243002, 9...</td>\n",
       "    </tr>\n",
       "    <tr>\n",
       "      <th>3</th>\n",
       "      <td>18352672461570950206</td>\n",
       "      <td></td>\n",
       "      <td>0924243001 0924243002 0918522001 0923758001 08...</td>\n",
       "      <td>NaN</td>\n",
       "      <td>[924243001, 924243002, 918522001, 923758001, 8...</td>\n",
       "    </tr>\n",
       "    <tr>\n",
       "      <th>4</th>\n",
       "      <td>18162778555210377306</td>\n",
       "      <td></td>\n",
       "      <td>0791587015 0927530004 0730683050 0896152002 07...</td>\n",
       "      <td>NaN</td>\n",
       "      <td>[791587015, 927530004, 730683050, 896152002, 7...</td>\n",
       "    </tr>\n",
       "  </tbody>\n",
       "</table>\n",
       "</div>"
      ],
      "text/plain": [
       "            customer_id actual  \\\n",
       "0   6883939031699146327          \n",
       "1  11246327431398957306          \n",
       "2  18439897732908966680          \n",
       "3  18352672461570950206          \n",
       "4  18162778555210377306          \n",
       "\n",
       "                                          prediction  article_id  \\\n",
       "0  0568601043 0568601006 0924243001 0924243002 09...         NaN   \n",
       "1  0826211002 0924243001 0924243002 0918522001 09...         NaN   \n",
       "2  0794321007 0794321008 0924243001 0924243002 09...         NaN   \n",
       "3  0924243001 0924243002 0918522001 0923758001 08...         NaN   \n",
       "4  0791587015 0927530004 0730683050 0896152002 07...         NaN   \n",
       "\n",
       "                                                pred  \n",
       "0  [568601043, 568601006, 924243001, 924243002, 9...  \n",
       "1  [826211002, 924243001, 924243002, 918522001, 9...  \n",
       "2  [794321007, 794321008, 924243001, 924243002, 9...  \n",
       "3  [924243001, 924243002, 918522001, 923758001, 8...  \n",
       "4  [791587015, 927530004, 730683050, 896152002, 7...  "
      ]
     },
     "execution_count": 53,
     "metadata": {},
     "output_type": "execute_result"
    }
   ],
   "source": [
    "valset_105.head()"
   ]
  },
  {
   "cell_type": "code",
   "execution_count": 54,
   "id": "0ed20100",
   "metadata": {},
   "outputs": [],
   "source": [
    "valset_105['customer_id'] = [customer_id_inv_dict[xx] for xx in valset_105['customer_id']]"
   ]
  },
  {
   "cell_type": "code",
   "execution_count": 55,
   "id": "3e52b047",
   "metadata": {},
   "outputs": [],
   "source": [
    "del valset_105['article_id']"
   ]
  },
  {
   "cell_type": "code",
   "execution_count": 56,
   "id": "5fad7721",
   "metadata": {},
   "outputs": [
    {
     "data": {
      "text/plain": [
       "1371980"
      ]
     },
     "execution_count": 56,
     "metadata": {},
     "output_type": "execute_result"
    }
   ],
   "source": [
    "valset_105['customer_id'].nunique()"
   ]
  },
  {
   "cell_type": "code",
   "execution_count": 57,
   "id": "fa43486b",
   "metadata": {},
   "outputs": [],
   "source": [
    "testdata_105 = gen_test_dataset(valset_105)\n"
   ]
  },
  {
   "cell_type": "code",
   "execution_count": 58,
   "id": "a255ea67",
   "metadata": {},
   "outputs": [
    {
     "data": {
      "text/plain": [
       "1371977"
      ]
     },
     "execution_count": 58,
     "metadata": {},
     "output_type": "execute_result"
    }
   ],
   "source": [
    "testdata_105.customer_id.nunique()"
   ]
  },
  {
   "cell_type": "code",
   "execution_count": 59,
   "id": "bb8f9e04",
   "metadata": {},
   "outputs": [],
   "source": [
    "testdata_105['customer_id'] = [customer_id_dict[xx] for xx in testdata_105['customer_id']]"
   ]
  },
  {
   "cell_type": "code",
   "execution_count": 60,
   "id": "131b130e",
   "metadata": {},
   "outputs": [
    {
     "data": {
      "text/html": [
       "<div>\n",
       "<style scoped>\n",
       "    .dataframe tbody tr th:only-of-type {\n",
       "        vertical-align: middle;\n",
       "    }\n",
       "\n",
       "    .dataframe tbody tr th {\n",
       "        vertical-align: top;\n",
       "    }\n",
       "\n",
       "    .dataframe thead th {\n",
       "        text-align: right;\n",
       "    }\n",
       "</style>\n",
       "<table border=\"1\" class=\"dataframe\">\n",
       "  <thead>\n",
       "    <tr style=\"text-align: right;\">\n",
       "      <th></th>\n",
       "      <th>customer_id</th>\n",
       "      <th>article_id</th>\n",
       "      <th>purchased</th>\n",
       "      <th>recall_rank</th>\n",
       "    </tr>\n",
       "  </thead>\n",
       "  <tbody>\n",
       "    <tr>\n",
       "      <th>0</th>\n",
       "      <td>6883939031699146327</td>\n",
       "      <td>568601043</td>\n",
       "      <td>0</td>\n",
       "      <td>1.0</td>\n",
       "    </tr>\n",
       "    <tr>\n",
       "      <th>1</th>\n",
       "      <td>6883939031699146327</td>\n",
       "      <td>568601006</td>\n",
       "      <td>0</td>\n",
       "      <td>2.0</td>\n",
       "    </tr>\n",
       "    <tr>\n",
       "      <th>2</th>\n",
       "      <td>6883939031699146327</td>\n",
       "      <td>924243001</td>\n",
       "      <td>0</td>\n",
       "      <td>3.0</td>\n",
       "    </tr>\n",
       "    <tr>\n",
       "      <th>3</th>\n",
       "      <td>6883939031699146327</td>\n",
       "      <td>924243002</td>\n",
       "      <td>0</td>\n",
       "      <td>4.0</td>\n",
       "    </tr>\n",
       "    <tr>\n",
       "      <th>4</th>\n",
       "      <td>6883939031699146327</td>\n",
       "      <td>918522001</td>\n",
       "      <td>0</td>\n",
       "      <td>5.0</td>\n",
       "    </tr>\n",
       "  </tbody>\n",
       "</table>\n",
       "</div>"
      ],
      "text/plain": [
       "           customer_id  article_id  purchased  recall_rank\n",
       "0  6883939031699146327   568601043          0          1.0\n",
       "1  6883939031699146327   568601006          0          2.0\n",
       "2  6883939031699146327   924243001          0          3.0\n",
       "3  6883939031699146327   924243002          0          4.0\n",
       "4  6883939031699146327   918522001          0          5.0"
      ]
     },
     "execution_count": 60,
     "metadata": {},
     "output_type": "execute_result"
    }
   ],
   "source": [
    "testdata_105['article_id'] = testdata_105['article_id'].astype(int)\n",
    "testdata_105.head()"
   ]
  },
  {
   "cell_type": "code",
   "execution_count": 61,
   "id": "eee92b5d",
   "metadata": {},
   "outputs": [
    {
     "name": "stderr",
     "output_type": "stream",
     "text": [
      "<ipython-input-16-4834f1e0954e>:51: SettingWithCopyWarning: \n",
      "A value is trying to be set on a copy of a slice from a DataFrame.\n",
      "Try using .loc[row_indexer,col_indexer] = value instead\n",
      "\n",
      "See the caveats in the documentation: https://pandas.pydata.org/pandas-docs/stable/user_guide/indexing.html#returning-a-view-versus-a-copy\n",
      "  part['day_lag'] = ((last_date_train - part['t_dat']) / np.timedelta64(1, 'D')).astype(int)\n"
     ]
    },
    {
     "name": "stdout",
     "output_type": "stream",
     "text": [
      "init_date: 1993-05-08 00:00:00\n",
      "last_date: 2020-09-22 00:00:00\n"
     ]
    }
   ],
   "source": [
    "testdata_105 = gen_feature(testdata_105,105-1)\n"
   ]
  },
  {
   "cell_type": "code",
   "execution_count": null,
   "id": "36dd21eb",
   "metadata": {},
   "outputs": [],
   "source": [
    "from tqdm import tqdm\n",
    "pred_test = 0\n",
    "for ranker in modellist:\n",
    "    tmp2 = []\n",
    "    for ii in tqdm(range(int(len(testdata_105)/5000000)+1)):\n",
    "        tmp = ranker.predict(testdata_105[features][ii*5000000:(ii+1)*5000000])\n",
    "    #     tmp = ranker.predict_proba(testdata_105[features])[:,1]\n",
    "        tmp2.append(tmp)\n",
    "    tmp2 = np.concatenate(tmp2)\n",
    "    pred_test+=tmp2/len(modellist)"
   ]
  },
  {
   "cell_type": "code",
   "execution_count": null,
   "id": "00453b5c",
   "metadata": {},
   "outputs": [],
   "source": [
    "testdata_105['article_id'] = testdata_105['article_id'].astype(int)\n",
    "testdata_105['pred'] = pred_test"
   ]
  },
  {
   "cell_type": "code",
   "execution_count": null,
   "id": "2bf6f328",
   "metadata": {},
   "outputs": [],
   "source": [
    "testdata_105 = testdata_105.sort_values(by='pred',ascending=False).reset_index(drop=True)\n",
    "testdata_105 = testdata_105.groupby('customer_id').head(12)\n",
    "testdata_105 = testdata_105.groupby('customer_id')['article_id'].apply(list)\n"
   ]
  },
  {
   "cell_type": "code",
   "execution_count": null,
   "id": "bc50dddb",
   "metadata": {},
   "outputs": [],
   "source": [
    "testdata_105 = testdata_105.reset_index()"
   ]
  },
  {
   "cell_type": "code",
   "execution_count": null,
   "id": "5003d0aa",
   "metadata": {},
   "outputs": [],
   "source": [
    "testdata_105.head()"
   ]
  },
  {
   "cell_type": "code",
   "execution_count": null,
   "id": "347238e1",
   "metadata": {},
   "outputs": [],
   "source": [
    "testdata_105['customer_id_trans'] = \\\n",
    "        [customer_id_inv_dict[xx] if xx in customer_id_inv_dict else 'nan' for xx in testdata_105['customer_id']]\n"
   ]
  },
  {
   "cell_type": "code",
   "execution_count": null,
   "id": "03bded2a",
   "metadata": {},
   "outputs": [],
   "source": [
    "sub_save = testdata_105[['customer_id_trans','article_id']]\n",
    "sub_save['article_id'] = [iter_to_str(xx) for xx in sub_save.article_id]\n",
    "sub_save.columns = ['customer_id','prediction']\n"
   ]
  },
  {
   "cell_type": "code",
   "execution_count": null,
   "id": "e6fcf58d",
   "metadata": {},
   "outputs": [],
   "source": [
    "sub_ori = pd.read_csv('../input/h-and-m-personalized-fashion-recommendations/sample_submission.csv')"
   ]
  },
  {
   "cell_type": "code",
   "execution_count": null,
   "id": "d7a28dfc",
   "metadata": {},
   "outputs": [],
   "source": [
    "sub_final = pd.merge(sub_ori[['customer_id']],sub_save[['customer_id', 'prediction']],how='left',on='customer_id')"
   ]
  },
  {
   "cell_type": "code",
   "execution_count": null,
   "id": "fd57321e",
   "metadata": {},
   "outputs": [],
   "source": [
    "sub_final[['customer_id', 'prediction']].to_csv('submission.csv', index=False)  "
   ]
  },
  {
   "cell_type": "code",
   "execution_count": null,
   "id": "ee624906",
   "metadata": {},
   "outputs": [],
   "source": [
    "sub_final.shape"
   ]
  },
  {
   "cell_type": "code",
   "execution_count": null,
   "id": "63175926",
   "metadata": {},
   "outputs": [],
   "source": [
    "sub_final"
   ]
  },
  {
   "cell_type": "code",
   "execution_count": null,
   "id": "7f04c5f7",
   "metadata": {},
   "outputs": [],
   "source": []
  },
  {
   "cell_type": "code",
   "execution_count": null,
   "id": "57041d0c",
   "metadata": {},
   "outputs": [],
   "source": []
  },
  {
   "cell_type": "code",
   "execution_count": null,
   "id": "04a3c75f",
   "metadata": {},
   "outputs": [],
   "source": []
  },
  {
   "cell_type": "code",
   "execution_count": null,
   "id": "bf8dbe7d",
   "metadata": {},
   "outputs": [],
   "source": []
  },
  {
   "cell_type": "code",
   "execution_count": null,
   "id": "cfdde84d",
   "metadata": {},
   "outputs": [],
   "source": []
  },
  {
   "cell_type": "code",
   "execution_count": null,
   "id": "6ab872d5",
   "metadata": {},
   "outputs": [],
   "source": []
  },
  {
   "cell_type": "code",
   "execution_count": null,
   "id": "100a99a9",
   "metadata": {},
   "outputs": [],
   "source": []
  },
  {
   "cell_type": "code",
   "execution_count": null,
   "id": "d82bb8d2",
   "metadata": {},
   "outputs": [],
   "source": []
  }
 ],
 "metadata": {
  "kernelspec": {
   "display_name": "Python 3",
   "language": "python",
   "name": "python3"
  },
  "language_info": {
   "codemirror_mode": {
    "name": "ipython",
    "version": 3
   },
   "file_extension": ".py",
   "mimetype": "text/x-python",
   "name": "python",
   "nbconvert_exporter": "python",
   "pygments_lexer": "ipython3",
   "version": "3.8.8"
  }
 },
 "nbformat": 4,
 "nbformat_minor": 5
}
